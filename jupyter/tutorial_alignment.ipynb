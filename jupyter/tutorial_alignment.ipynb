{
 "cells": [
  {
   "cell_type": "markdown",
   "metadata": {},
   "source": [
    "# Fied Alignment Data Assimilation"
   ]
  },
  {
   "cell_type": "markdown",
   "metadata": {},
   "source": [
    "We define short code to illustrate the alignment of field in the context of Data Assimilation. We present the alignment phase. In the first part, the case of a gaussian discretize on a regular discretization. In the second part, an implementation for a gaussian discretize with a particle discretization. Finally, the goal would be to apply a force correction and penalize the interpenetration."
   ]
  },
  {
   "cell_type": "code",
   "execution_count": 1,
   "metadata": {},
   "outputs": [],
   "source": [
    "from dataclasses import dataclass\n",
    "\n",
    "import jax.numpy as jnp\n",
    "from jax import Array, grad, jacfwd, random\n",
    "import matplotlib.pyplot as plt\n",
    "import numpy as np"
   ]
  },
  {
   "cell_type": "markdown",
   "metadata": {},
   "source": [
    "## Field alignment on a regular grid"
   ]
  },
  {
   "cell_type": "markdown",
   "metadata": {},
   "source": [
    "We firt define the background state $y_b$, the observation $y_{obs}$ of a ground truth, $H$ the operator observation and the regular grid discretization $x$. All those quantities are store in the class `Data`. We store also the evolution of the field in $y_i$ during iterations."
   ]
  },
  {
   "cell_type": "code",
   "execution_count": null,
   "metadata": {},
   "outputs": [],
   "source": [
    "@dataclass\n",
    "class Data:\n",
    "    x: np.array\n",
    "    dx: np.double\n",
    "    y_b: np.array\n",
    "    y_i: np.array\n",
    "    y_obs: np.array\n",
    "    h: np.array"
   ]
  },
  {
   "cell_type": "markdown",
   "metadata": {},
   "source": [
    "We define a fonction to apply a displacement `apply_displacement` given a vector $\\bm{q}$ of deformation using linear interpolation on the grid $x$."
   ]
  },
  {
   "cell_type": "code",
   "execution_count": null,
   "metadata": {},
   "outputs": [],
   "source": [
    "def apply_displacement(q: Array, x: Array, y: Array) -> Array:\n",
    "    return jnp.interp(x - q, x, y,period=1.)\n",
    "\n",
    "grad_apply_displacement = jacfwd(apply_displacement)"
   ]
  },
  {
   "cell_type": "markdown",
   "metadata": {},
   "source": [
    "We define then the cost function for an incremental of deformation $\\delta q$. We add a regularization term to avoid high gradient."
   ]
  },
  {
   "cell_type": "code",
   "execution_count": null,
   "metadata": {},
   "outputs": [],
   "source": [
    "def cost_inc(dq:Array, data:Data, sigma_obs:Array, w:float) -> Array:\n",
    "    # yq = apply_displacement(q, data.x, data.y_i)\n",
    "    eta = data.y_obs - data.h @ data.y_i\n",
    "    G = grad_apply_displacement(np.zeros(len(data.x)), data.x,data.y_i).T\n",
    "    nabla_dq = jnp.gradient(dq, data.dx)\n",
    "\n",
    "    return (1 / 2 * (data.h @ G @ dq - eta).T @ (data.h @ G @ dq - eta) / sigma_obs**2\n",
    "        + w / 2 * nabla_dq.T @ nabla_dq\n",
    "        + w / 2 * jnp.sum(jnp.trace(jnp.outer(nabla_dq, nabla_dq)))\n",
    "    )\n",
    "grad_cost_inc = grad(cost_inc)"
   ]
  },
  {
   "cell_type": "markdown",
   "metadata": {},
   "source": [
    "We solve the minimization iteratively such that"
   ]
  },
  {
   "cell_type": "code",
   "execution_count": null,
   "metadata": {},
   "outputs": [],
   "source": [
    "def solve_alignment_inc(data:Data, sigma_obs:Array, itmax=50) -> Array:\n",
    "    delta_q = jnp.zeros(len(data.x))\n",
    "    q = jnp.zeros(len(data.x))\n",
    "    loss_c = cost_inc(delta_q, data, sigma_obs)\n",
    "    print(\"initial cost: \",loss_c)\n",
    "    it = 1\n",
    "    result = sp.optimize.minimize(cost_inc,delta_q,(data, sigma_obs), method=\"BFGS\", jac=grad_cost_inc)\n",
    "    q += result.x\n",
    "    data.y_i = apply_displacement(result.x, data.x, data.y_i)\n",
    "    loss = cost_inc(result.x, data, sigma_obs)\n",
    "    while (it < itmax) or np.isclose(loss_c, loss, rtol = 0.1):\n",
    "        loss_c = loss\n",
    "        it += 1\n",
    "        print(f\"{it=}\")\n",
    "        result = sp.optimize.minimize(cost_inc,delta_q,(data, sigma_obs), method=\"BFGS\", jac=grad_cost_inc)\n",
    "        #mise à jour de y_i\n",
    "        q += result.x\n",
    "        loss = cost_inc(result.x, data, sigma_obs)\n",
    "        print(\"new cost : \", loss)\n",
    "        data.y_i = apply_displacement(result.x, data.x, data.y_i)\n",
    "\n",
    "    return q, data.y_i"
   ]
  }
 ],
 "metadata": {
  "kernelspec": {
   "display_name": "pysph",
   "language": "python",
   "name": "python3"
  },
  "language_info": {
   "codemirror_mode": {
    "name": "ipython",
    "version": 3
   },
   "file_extension": ".py",
   "mimetype": "text/x-python",
   "name": "python",
   "nbconvert_exporter": "python",
   "pygments_lexer": "ipython3",
   "version": "3.11.4"
  }
 },
 "nbformat": 4,
 "nbformat_minor": 2
}
